{
 "cells": [
  {
   "cell_type": "markdown",
   "id": "797dca75",
   "metadata": {},
   "source": [
    "# PHY1031 Homework I - core datatypes and methods"
   ]
  },
  {
   "cell_type": "markdown",
   "id": "5ea5dd68",
   "metadata": {},
   "source": [
    "This homework is marked out of **20** and counts for 10% of your module mark.\n",
    "   * **15 marks** for correctly functioning code (see mark allocations below).\n",
    "   * an additional **5 marks** are available for good programming practice.  At this stage, that means\n",
    "      * appropriate use of Python constructs and datatypes\n",
    "      * short, descriptive object names\n",
    "      * using a separate cell for each task\n",
    "      * for the longer exercises, adding one-line #comments to explain how the code works\n",
    "      \n",
    "Complete the exercises below in this Jupyter notebook.  Save as an `.ipynb` file and upload this to ELE."
   ]
  },
  {
   "cell_type": "markdown",
   "id": "4087e76f",
   "metadata": {},
   "source": [
    "## 1. Creating datatypes [5 marks]\n",
    "Create the following Python objects:\n",
    "\n",
    "* a `float` with the number $2 \\times 10^6$\n",
    "* a `complex` number $3.2 - 4.3i$\n",
    "* a `str` containing your student ID number (on your Uni card)\n",
    "* a `tuple` containing today's day, month, and year stored as integers\n",
    "* a `list` of the Term 1 module codes for the modules you are taking (PHY1031 etc.)"
   ]
  },
  {
   "cell_type": "code",
   "execution_count": 12,
   "id": "1f1f7dec",
   "metadata": {
    "tags": []
   },
   "outputs": [
    {
     "data": {
      "text/plain": [
       "float"
      ]
     },
     "execution_count": 12,
     "metadata": {},
     "output_type": "execute_result"
    }
   ],
   "source": [
    "#creating the floating point number 2x10^6\n",
    "a = 2e6\n",
    "type(a)"
   ]
  },
  {
   "cell_type": "code",
   "execution_count": 11,
   "id": "e845edb2",
   "metadata": {
    "tags": []
   },
   "outputs": [
    {
     "data": {
      "text/plain": [
       "complex"
      ]
     },
     "execution_count": 11,
     "metadata": {},
     "output_type": "execute_result"
    }
   ],
   "source": [
    "#creating the complex number 3.2-4.3i\n",
    "b = 3.2 - 4.3j\n",
    "type(b)"
   ]
  },
  {
   "cell_type": "code",
   "execution_count": 10,
   "id": "776e1a7c-b0d0-4be5-a3a2-c140f086eb2b",
   "metadata": {
    "tags": []
   },
   "outputs": [
    {
     "data": {
      "text/plain": [
       "str"
      ]
     },
     "execution_count": 10,
     "metadata": {},
     "output_type": "execute_result"
    }
   ],
   "source": [
    "#creating a string containing my student ID number\n",
    "c = str(730037183)\n",
    "type(c)"
   ]
  },
  {
   "cell_type": "code",
   "execution_count": 24,
   "id": "b72559b3-24b5-4dc9-a5f3-419506f55114",
   "metadata": {
    "tags": []
   },
   "outputs": [
    {
     "data": {
      "text/plain": [
       "tuple"
      ]
     },
     "execution_count": 24,
     "metadata": {},
     "output_type": "execute_result"
    }
   ],
   "source": [
    "#creating a tuple containing todays day, month and year as integers\n",
    "d = (9,10,2023)\n",
    "type(d)"
   ]
  },
  {
   "cell_type": "code",
   "execution_count": 25,
   "id": "2886ef73-eee6-486b-afb6-322716c96834",
   "metadata": {
    "tags": []
   },
   "outputs": [
    {
     "data": {
      "text/plain": [
       "int"
      ]
     },
     "execution_count": 25,
     "metadata": {},
     "output_type": "execute_result"
    }
   ],
   "source": [
    "#checking the type of the values inside the tuple d\n",
    "type(d[1])"
   ]
  },
  {
   "cell_type": "code",
   "execution_count": 13,
   "id": "3401fa8d-0573-4033-8cf6-962fef608ac6",
   "metadata": {
    "tags": []
   },
   "outputs": [
    {
     "data": {
      "text/plain": [
       "list"
      ]
     },
     "execution_count": 13,
     "metadata": {},
     "output_type": "execute_result"
    }
   ],
   "source": [
    "#creating a list containing the module codes that I am currently taking\n",
    "e = [\"PHY1022\",\"PHY1025\",\"PHY1027\",\"PHY1031\",\"PHY1021\"]\n",
    "type(e)"
   ]
  },
  {
   "cell_type": "markdown",
   "id": "fe4fb03a",
   "metadata": {},
   "source": [
    "## 2. indexing and slicing [3 marks]\n",
    "\n",
    "Below is a list of elements.  Use indexing and slicing to find\n",
    "   * the second item in the list\n",
    "   * the last two items in the list\n",
    "   * the middle three items in the list\n",
    "\n",
    "Now use list methods and built-in methods to \n",
    "* find the number of elements in the list.\n",
    "* add the elements 'F' and 'Ne' to the end of the list\n",
    "* insert the element 'Be' between 'Li' and 'B'\n",
    "\n",
    "_Hint: if your list starts to get multiple copies of elements, try Kernel -> Restart and Run All_"
   ]
  },
  {
   "cell_type": "code",
   "execution_count": 42,
   "id": "fe9626e4",
   "metadata": {
    "tags": []
   },
   "outputs": [],
   "source": [
    "elements = ['H', 'He', 'Li', 'B', 'C', 'N', 'O']"
   ]
  },
  {
   "cell_type": "code",
   "execution_count": 20,
   "id": "20064236",
   "metadata": {
    "tags": []
   },
   "outputs": [
    {
     "data": {
      "text/plain": [
       "'He'"
      ]
     },
     "execution_count": 20,
     "metadata": {},
     "output_type": "execute_result"
    }
   ],
   "source": [
    "#finding the second item in the list\n",
    "elements[1]"
   ]
  },
  {
   "cell_type": "code",
   "execution_count": 27,
   "id": "807d2742-0d7c-45de-8aa2-8e12f5864f81",
   "metadata": {
    "tags": []
   },
   "outputs": [
    {
     "data": {
      "text/plain": [
       "['N', 'O']"
      ]
     },
     "execution_count": 27,
     "metadata": {},
     "output_type": "execute_result"
    }
   ],
   "source": [
    "#finding the last two items in the list\n",
    "elements[-2:]"
   ]
  },
  {
   "cell_type": "code",
   "execution_count": 34,
   "id": "ea6ae0ae-ee85-4d09-970d-73510477ebf2",
   "metadata": {
    "tags": []
   },
   "outputs": [
    {
     "data": {
      "text/plain": [
       "['Li', 'B', 'C']"
      ]
     },
     "execution_count": 34,
     "metadata": {},
     "output_type": "execute_result"
    }
   ],
   "source": [
    "#finding the middle three items in the list\n",
    "x = len(elements)\n",
    "#finding which object in the list to start with\n",
    "y = int((x-1)/2-1)\n",
    "#finding which object in the list to end with\n",
    "z = int((x+1)/2+1)\n",
    "#outputting the results\n",
    "elements[y:z]"
   ]
  },
  {
   "cell_type": "code",
   "execution_count": 35,
   "id": "eca07645-ca78-444b-9403-0b57a06f1e4c",
   "metadata": {
    "tags": []
   },
   "outputs": [
    {
     "data": {
      "text/plain": [
       "7"
      ]
     },
     "execution_count": 35,
     "metadata": {},
     "output_type": "execute_result"
    }
   ],
   "source": [
    "#finding the length of the list\n",
    "len(elements)"
   ]
  },
  {
   "cell_type": "code",
   "execution_count": 43,
   "id": "7714dfee-553a-467e-ac6e-1c12fbbee78c",
   "metadata": {
    "tags": []
   },
   "outputs": [
    {
     "data": {
      "text/plain": [
       "['H', 'He', 'Li', 'B', 'C', 'N', 'O', 'F', 'Ne']"
      ]
     },
     "execution_count": 43,
     "metadata": {},
     "output_type": "execute_result"
    }
   ],
   "source": [
    "#adding the elements F and Ne to the list\n",
    "elements.append(\"F\")\n",
    "elements.append(\"Ne\")\n",
    "elements"
   ]
  },
  {
   "cell_type": "code",
   "execution_count": 44,
   "id": "06a6ae72-7525-4769-a6ac-7bfafe7dab05",
   "metadata": {
    "tags": []
   },
   "outputs": [
    {
     "data": {
      "text/plain": [
       "['H', 'He', 'Li', 'Be', 'B', 'C', 'N', 'O', 'F', 'Ne']"
      ]
     },
     "execution_count": 44,
     "metadata": {},
     "output_type": "execute_result"
    }
   ],
   "source": [
    "#inserting Be between Li and B\n",
    "elements.insert(3,\"Be\")\n",
    "elements"
   ]
  },
  {
   "cell_type": "markdown",
   "id": "5d222a79",
   "metadata": {},
   "source": [
    "## 3.  classification dictionary [3 marks]\n",
    "\n",
    "The degree classifications and corresponding minimum percentages at this University are given in the following table:\n",
    "\n",
    "| class | % |\n",
    "|--------|-----------| \n",
    "| 3rd | 39.5 |\n",
    "| 2:II | 49.5 |\n",
    "| 2:I| 59.5 |\n",
    "| 1st | 69.5 |\n",
    " \n",
    "* Create a dictionary containing this information.  Use appropriate datatypes for the classification and percentage.\n",
    "* Index the dictionary to find the percentage associated with a 2:I classification.\n",
    "* Now use dictionary methods to extract the same information \n",
    "\n"
   ]
  },
  {
   "cell_type": "code",
   "execution_count": 46,
   "id": "2f4b5300",
   "metadata": {
    "tags": []
   },
   "outputs": [
    {
     "data": {
      "text/plain": [
       "{'3rd': 39.5, '2:2': 49.5, '2:1': 59.5, '1st': 69.5}"
      ]
     },
     "execution_count": 46,
     "metadata": {},
     "output_type": "execute_result"
    }
   ],
   "source": [
    "#creating the dictionary\n",
    "classification = {\"3rd\":39.5,\"2:2\":49.5,\"2:1\":59.5,\"1st\":69.5}"
   ]
  },
  {
   "cell_type": "code",
   "execution_count": 48,
   "id": "26eda6d5-ca22-47c6-817b-85ce20abe879",
   "metadata": {
    "tags": []
   },
   "outputs": [
    {
     "data": {
      "text/plain": [
       "59.5"
      ]
     },
     "execution_count": 48,
     "metadata": {},
     "output_type": "execute_result"
    }
   ],
   "source": [
    "#indexing to find the percentage required for a 2:1\n",
    "classification.get(\"2:1\")"
   ]
  },
  {
   "cell_type": "code",
   "execution_count": 61,
   "id": "54841426-d1f1-49ee-bb3e-4e80e3e108bb",
   "metadata": {
    "tags": []
   },
   "outputs": [
    {
     "data": {
      "text/plain": [
       "59.5"
      ]
     },
     "execution_count": 61,
     "metadata": {},
     "output_type": "execute_result"
    }
   ],
   "source": [
    "percentages = list(classification.values())\n",
    "grades = list(classification.keys())\n",
    "x = grades.index(\"2:1\")\n",
    "percentages[x]"
   ]
  },
  {
   "cell_type": "markdown",
   "id": "d66c6981",
   "metadata": {},
   "source": [
    "## 4. string methods for filenames [4 marks]\n",
    "    \n",
    "String operations are often needed for manipulating filenames.  Complete the function `fix_filename` using string methods, operators and built-in methods on strings to append a version number to a filename, returning the new filename, for example changing\n",
    "* \"cam_0129.jpeg\" into \"cam_0129_v2.jpeg\"\n",
    "* \"image22.png\" into \"image22_v2.png\". \n",
    "\n",
    "Try to find a general method that doesn't depend on the number of characters in the filename or extension. \n",
    "\n",
    "Test the function by calling it with each of the filenames to show that it works (include this testing in your hand-in).\n"
   ]
  },
  {
   "cell_type": "code",
   "execution_count": 70,
   "id": "4e313fbd",
   "metadata": {
    "tags": []
   },
   "outputs": [],
   "source": [
    "def fix_filename(filename):\n",
    "    filename_new = filename.replace(\".\",\"_v2.\")\n",
    "    return filename_new"
   ]
  },
  {
   "cell_type": "code",
   "execution_count": 65,
   "id": "1d943be4",
   "metadata": {
    "tags": []
   },
   "outputs": [],
   "source": [
    "# filenames to use for testing\n",
    "f1 = \"cam_0129.jpeg\"\n",
    "f2 = \"image22.png\""
   ]
  },
  {
   "cell_type": "code",
   "execution_count": 71,
   "id": "02bcfcfc",
   "metadata": {
    "tags": []
   },
   "outputs": [
    {
     "data": {
      "text/plain": [
       "'cam_0129_v2.jpeg'"
      ]
     },
     "execution_count": 71,
     "metadata": {},
     "output_type": "execute_result"
    }
   ],
   "source": [
    "fix_filename(f1)"
   ]
  },
  {
   "cell_type": "code",
   "execution_count": 72,
   "id": "92d2d0f3-e172-463d-aef2-40df0603e7e5",
   "metadata": {
    "tags": []
   },
   "outputs": [
    {
     "data": {
      "text/plain": [
       "'image22_v2.png'"
      ]
     },
     "execution_count": 72,
     "metadata": {},
     "output_type": "execute_result"
    }
   ],
   "source": [
    "fix_filename(f2)"
   ]
  }
 ],
 "metadata": {
  "kernelspec": {
   "display_name": "Python 3 (ipykernel)",
   "language": "python",
   "name": "python3"
  },
  "language_info": {
   "codemirror_mode": {
    "name": "ipython",
    "version": 3
   },
   "file_extension": ".py",
   "mimetype": "text/x-python",
   "name": "python",
   "nbconvert_exporter": "python",
   "pygments_lexer": "ipython3",
   "version": "3.11.5"
  }
 },
 "nbformat": 4,
 "nbformat_minor": 5
}
