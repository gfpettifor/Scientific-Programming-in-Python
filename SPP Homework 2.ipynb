{
 "cells": [
  {
   "cell_type": "markdown",
   "id": "72b9137c",
   "metadata": {},
   "source": [
    "# PHY1030/1031 Homework 2 - conditionals and loops with core datatypes"
   ]
  },
  {
   "cell_type": "markdown",
   "id": "9e751e7c",
   "metadata": {
    "editable": true,
    "slideshow": {
     "slide_type": "skip"
    },
    "tags": []
   },
   "source": [
    "This homework is marked out of **20** and counts for 10% of your module mark.\n",
    "   * **15 marks** for correctly functioning code (see mark allocations below).\n",
    "   * an additional **5 marks** are available for good programming practice.  At this stage, that means\n",
    "      * appropriate use of Python constructs and datatypes\n",
    "      * short, descriptive object names\n",
    "      * using separate cells for tasks\n",
    "      * for the longer exercises, using one-line #comments to explain how the code works"
   ]
  },
  {
   "cell_type": "markdown",
   "id": "c6de3cf7-a5bc-43cb-b042-ed50620af919",
   "metadata": {},
   "source": [
    "Complete the exercises below in this Jupyter notebook. Save as an `.ipynb` file and upload this to ELE."
   ]
  },
  {
   "cell_type": "markdown",
   "id": "62bb5751",
   "metadata": {},
   "source": [
    "## 1.  conditionals - boson or fermion II [2 marks]\n",
    "Complete the function below to check if a particle is a boson or fermion based on its quantum spin -\n",
    "* bosons have integer spin\n",
    "* fermions have half-integer spin\n",
    "\n",
    "Your function should return the string 'Boson', 'Fermion' or 'Unknown'\n",
    "\n",
    "_Hint: use the remainder operator % or divmod()_"
   ]
  },
  {
   "cell_type": "code",
   "execution_count": 3,
   "id": "b485766e",
   "metadata": {
    "tags": []
   },
   "outputs": [],
   "source": [
    "def type_of_particle(spin):\n",
    "    \"\"\"Check particle type based on spin\"\"\"\n",
    "    # add your conditional here\n",
    "    if abs(spin) == 0.5:\n",
    "        print(\"Fermion\")\n",
    "    elif abs(spin) == 1 or spin == 0:\n",
    "        print(\"Boson\")\n",
    "    else:\n",
    "        print(\"Unknown\")"
   ]
  },
  {
   "cell_type": "code",
   "execution_count": 9,
   "id": "f9de38d3",
   "metadata": {
    "tags": []
   },
   "outputs": [
    {
     "name": "stdout",
     "output_type": "stream",
     "text": [
      "Boson\n"
     ]
    }
   ],
   "source": [
    "# test the function here\n",
    "s = 1\n",
    "type_of_particle(s)"
   ]
  },
  {
   "cell_type": "markdown",
   "id": "0d16f8a1",
   "metadata": {},
   "source": [
    "## 2. conditionals - damped simple harmonic motion [3 marks]\n",
    "\n",
    "Damped simple harmonic motion is controlled by three parameters, the force constant $k$, the damping coefficient $b$ and the mass $m$.  There are three scenarios depending on the value of $b$ compared to $m$ and $k$:\n",
    "   * $b^2 < 4mk$: light damping\n",
    "   * $b^2 = 4mk$: critical damping\n",
    "   * $b^2 > 4mk$: heavy damping.\n",
    "   \n",
    "Write code using conditional statements that takes initial values for $b$, $m$ and $k$ (assume SI units), checks for the light damping case, and prints the angular frequency in that case, using the formula:\n",
    "$$ \\omega' = \\sqrt{{k\\over m} - \\biggl({b \\over 2m}\\biggr)^2} $$\n",
    "\n",
    "For the critical and heavy damping cases, print a suitable message.\n",
    "Test it with values of $b$, $m$ and $k$ that produce each of the three categories."
   ]
  },
  {
   "cell_type": "code",
   "execution_count": 15,
   "id": "97574c0e",
   "metadata": {
    "tags": []
   },
   "outputs": [],
   "source": [
    "# initialise some test values\n",
    "b = 1.2\n",
    "m = 2.3 # kg\n",
    "k = 3.4 # m kg-1"
   ]
  },
  {
   "cell_type": "code",
   "execution_count": 16,
   "id": "4ac7c097",
   "metadata": {
    "tags": []
   },
   "outputs": [
    {
     "name": "stdout",
     "output_type": "stream",
     "text": [
      "light damping\n",
      "1.1875217638041446\n"
     ]
    }
   ],
   "source": [
    "# write your conditional here\n",
    "if b**2<4*m*k:\n",
    "    print(\"light damping\")\n",
    "    w = (k/m - (b/(2*m))**2)**0.5\n",
    "    print(w)\n",
    "elif b**2==4*m*k:\n",
    "    print(\"critical damping\")\n",
    "elif b**2>4*m*k:\n",
    "    print(\"heavy damping\")\n",
    "else:\n",
    "    print(\"error\")"
   ]
  },
  {
   "cell_type": "markdown",
   "id": "fdefa703",
   "metadata": {
    "editable": true,
    "slideshow": {
     "slide_type": "skip"
    },
    "tags": []
   },
   "source": [
    "## 3. loops - pi series [5 marks]\n",
    "\n",
    "There are several series that can be used to calculate the value of $\\pi$. Probably the simplest is\n",
    "\n",
    "$${\\pi\\over 4} = 1 - {1\\over 3} + {1 \\over 5} - {1\\over 7} + \\ldots + {(-1)^k \\over (2k+1)} + \\ldots$$\n",
    "\n",
    "Use a `for` loop to estimate $\\pi$ using this series.  By trial and error, roughly many terms do you need to get the first 3 digits after the decimal point correct (3.141)?"
   ]
  },
  {
   "cell_type": "code",
   "execution_count": 49,
   "id": "43d29381",
   "metadata": {
    "tags": []
   },
   "outputs": [
    {
     "name": "stdout",
     "output_type": "stream",
     "text": [
      "3.141000236580159\n"
     ]
    }
   ],
   "source": [
    "a = 1\n",
    "x = 0\n",
    "y = 0\n",
    "z = 0\n",
    "for x in range(0, 1688):\n",
    "    y = y + a / (2 * x + 1)\n",
    "    z = 4 * y\n",
    "    x = x + 1\n",
    "    if a == 1:\n",
    "        a = -1\n",
    "    elif a == -1:\n",
    "        a = 1\n",
    "print(z)"
   ]
  },
  {
   "cell_type": "code",
   "execution_count": null,
   "id": "0618d254",
   "metadata": {},
   "outputs": [],
   "source": [
    "\"\"\"1688 terms are needed to get the first three digits after the decimal point correct"
   ]
  },
  {
   "cell_type": "markdown",
   "id": "9c7eccf0",
   "metadata": {},
   "source": [
    "## 4.  Filename manipulation (loops, conditionals) [5 marks]"
   ]
  },
  {
   "cell_type": "markdown",
   "id": "2992b53c",
   "metadata": {
    "editable": true,
    "slideshow": {
     "slide_type": "skip"
    },
    "tags": []
   },
   "source": [
    "Images of JPEG type can have various filename extensions - `.jpg`, `.jpeg` or upper case versions of these, `.JPG`, `.JPEG`.  Imagine you have a piece of software that only recognises the extension `.jpg` and a directory (folder) that contains various files, some of which are images.\n",
    "\n",
    "Write a loop that takes a list of filenames, removes any that are not JPEG image type, and corrects the remaining filenames so that the extension is `.jpg`.  Print out the resulting list.\n",
    "\n",
    "Make your code as general as possible, and test it on some filenames other than the ones given.  Show your testing in your notebook."
   ]
  },
  {
   "cell_type": "code",
   "execution_count": 5,
   "id": "d36baf74",
   "metadata": {
    "editable": true,
    "slideshow": {
     "slide_type": "skip"
    },
    "tags": []
   },
   "outputs": [
    {
     "name": "stdout",
     "output_type": "stream",
     "text": [
      "['image1.jpg', 'img_20220304.jpg', 'image3.jpg']\n"
     ]
    }
   ],
   "source": [
    "# process a list of images, keeping the jpegs and removing other file types from the list\n",
    "filenames = [\"image1.jpg\", \"img_20220304.JPEG\", \"screenshot.png\", \"image3.jpg\"]\n",
    "file = \"\"\n",
    "x = 0\n",
    "for file in filenames:\n",
    "    file = filenames[x]\n",
    "    # check to see if the file is already in the right format\n",
    "    if file.endswith(\".jpg\"):\n",
    "        pass\n",
    "    elif file.endswith(\".jpeg\"):\n",
    "        #correcting files that end with jpeg\n",
    "        fxd = file.replace('.jpeg','.jpg')\n",
    "        filenames[x] = fxd\n",
    "    elif file.endswith(\".JPG\"):\n",
    "        #correcting files that end with JPG\n",
    "        fxd = file.replace(\".JPG\",\".jpg\")\n",
    "        filenames[x] = fxd\n",
    "    elif file.endswith(\".JPEG\"):\n",
    "        #correcting files that end with JPEG\n",
    "        fxd = file.replace(\".JPEG\",\".jpg\")\n",
    "        filenames[x] = fxd\n",
    "    else:\n",
    "        filenames.pop(x)\n",
    "    x = x + 1\n",
    "print(filenames)"
   ]
  }
 ],
 "metadata": {
  "kernelspec": {
   "display_name": "Python 3 (ipykernel)",
   "language": "python",
   "name": "python3"
  },
  "language_info": {
   "codemirror_mode": {
    "name": "ipython",
    "version": 3
   },
   "file_extension": ".py",
   "mimetype": "text/x-python",
   "name": "python",
   "nbconvert_exporter": "python",
   "pygments_lexer": "ipython3",
   "version": "3.11.5"
  }
 },
 "nbformat": 4,
 "nbformat_minor": 5
}
