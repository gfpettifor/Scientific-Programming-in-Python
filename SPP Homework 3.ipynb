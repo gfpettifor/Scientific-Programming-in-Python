{
 "cells": [
  {
   "cell_type": "markdown",
   "id": "c42ed7c3",
   "metadata": {
    "editable": true,
    "slideshow": {
     "slide_type": "skip"
    },
    "tags": []
   },
   "source": [
    "# PHY 1030/31 Homework 3 - core Python consolidation + numpy arrays"
   ]
  },
  {
   "cell_type": "markdown",
   "id": "f953f5ba-a5cf-489d-8057-1cabfbb54658",
   "metadata": {},
   "source": [
    "This homework is marked out of **20** and counts for 10% of your module mark.\n",
    "   * **15 marks** for correctly functioning code (see mark allocations below).\n",
    "   * an additional **5 marks** are available for good programming practice. At this stage, that means\n",
    "      * appropriate use of Python constructs and datatypes\n",
    "      * short, descriptive object names\n",
    "      * using separate cells for tasks\n",
    "      * one-line #comments to explain how the code works\n",
    "      * docstrings in functions\n",
    "      * avoiding code duplication by using functions and loops appropriately\n",
    "      * keeping code general, avoiding hardcoded values / magic numbers\n",
    "      \n",
    "**IMPORTANT** Some of the exercises are to be answered using **core Python only**.  Pay careful attention to the instructions."
   ]
  },
  {
   "cell_type": "markdown",
   "id": "be8779be-5e0f-437a-98f6-5fcbb766c41c",
   "metadata": {},
   "source": [
    "Complete the exercises below in this notebook.  To hand in, upload the notebook (.ipynb) to ELE."
   ]
  },
  {
   "cell_type": "markdown",
   "id": "2aebd9b9-87ae-4b82-b93b-b38ae462ed9f",
   "metadata": {
    "editable": true,
    "slideshow": {
     "slide_type": "skip"
    },
    "tags": []
   },
   "source": [
    "## 1a. vector operations (core Python) [3]\n",
    "\n",
    "In core Python, one way of storing a vector ${\\bf a} = (a_x, a_y, a_z)$  would be to use a tuple containing the components:"
   ]
  },
  {
   "cell_type": "code",
   "execution_count": 1,
   "id": "420f897d",
   "metadata": {
    "tags": []
   },
   "outputs": [],
   "source": [
    "a = (1,2,3)\n",
    "b = (4,5,6)"
   ]
  },
  {
   "cell_type": "markdown",
   "id": "815a24a7",
   "metadata": {},
   "source": [
    "Use core Python to calculate\n",
    "\n",
    "* the magnitude of vector `a`\n",
    "* the dot product of `a` and `b`\n",
    "* the cross product of `a` and `b`, giving the answer as a tuple\n",
    "\n",
    "_NB use core Python only.  Do NOT use numpy!_"
   ]
  },
  {
   "cell_type": "code",
   "execution_count": 5,
   "id": "a048d928-ab79-422b-8434-fda0a79896b7",
   "metadata": {
    "tags": []
   },
   "outputs": [
    {
     "name": "stdout",
     "output_type": "stream",
     "text": [
      "3.7416573867739413\n"
     ]
    }
   ],
   "source": [
    "#calculating the magnitude of vector a\n",
    "magA = (a[0]**2 + a[1]**2 + a[2]**2)**0.5\n",
    "#printing the magnitude of vector a\n",
    "print(magA)"
   ]
  },
  {
   "cell_type": "code",
   "execution_count": 6,
   "id": "def8becf-5d54-4a7f-a30e-b1d442529b45",
   "metadata": {
    "tags": []
   },
   "outputs": [
    {
     "name": "stdout",
     "output_type": "stream",
     "text": [
      "32\n"
     ]
    }
   ],
   "source": [
    "#calculating the dot product of a and b\n",
    "dotAB = (a[0]*b[0] + a[1]*b[1] + a[2]*b[2])\n",
    "#priting the dot product of a and b\n",
    "print(dotAB)"
   ]
  },
  {
   "cell_type": "code",
   "execution_count": 14,
   "id": "155bfffc-3d24-4d51-b6c7-42295ad86ea4",
   "metadata": {
    "tags": []
   },
   "outputs": [
    {
     "name": "stdout",
     "output_type": "stream",
     "text": [
      "(-3, 6, -3)\n"
     ]
    }
   ],
   "source": [
    "#calculating the x component of a cross b\n",
    "axb1 = (a[1]*b[2] - a[2]*b[1])\n",
    "#calculating the y component of a cross b\n",
    "axb2 = -(a[0]*b[2] - a[2]*b[0])\n",
    "#calculating the z component of a cross b\n",
    "axb3 = (a[0]*b[1] - a[1]*b[0])\n",
    "#creating the tuple a cross b\n",
    "axb = ( axb1 , axb2 , axb3 )\n",
    "#printing a cross b as a tuple\n",
    "print(axb)"
   ]
  },
  {
   "cell_type": "markdown",
   "id": "18e2daf8-f7aa-4922-bca2-f3144a1c8c7a",
   "metadata": {
    "editable": true,
    "slideshow": {
     "slide_type": "skip"
    },
    "tags": []
   },
   "source": [
    "## 1b. vector operations (numpy) [2]\n",
    "\n",
    "Now check your answers to 1a using numpy vector operations."
   ]
  },
  {
   "cell_type": "code",
   "execution_count": 15,
   "id": "0d24e912-62f9-4cca-9909-3500b5595b6d",
   "metadata": {
    "tags": []
   },
   "outputs": [],
   "source": [
    "#importing numpy\n",
    "import numpy as np"
   ]
  },
  {
   "cell_type": "code",
   "execution_count": 16,
   "id": "6ca80b01-dcab-41fc-be4c-b2cce58219e4",
   "metadata": {
    "tags": []
   },
   "outputs": [
    {
     "name": "stdout",
     "output_type": "stream",
     "text": [
      "3.7416573867739413\n"
     ]
    }
   ],
   "source": [
    "#calculating the magnitude of vector a\n",
    "magA = np.linalg.norm(a)\n",
    "#printing the magnitude of vector A\n",
    "print(magA)"
   ]
  },
  {
   "cell_type": "code",
   "execution_count": 17,
   "id": "4a41b727-ccad-45eb-863f-1bd31ee73f14",
   "metadata": {
    "tags": []
   },
   "outputs": [
    {
     "name": "stdout",
     "output_type": "stream",
     "text": [
      "32\n"
     ]
    }
   ],
   "source": [
    "#calculating the dot product of a and b\n",
    "dotAB = np.dot(a,b)\n",
    "#printing the dot product of a and b\n",
    "print(dotAB)"
   ]
  },
  {
   "cell_type": "code",
   "execution_count": 18,
   "id": "77794f13-b9e5-4ca5-a505-83a775f91257",
   "metadata": {
    "tags": []
   },
   "outputs": [
    {
     "name": "stdout",
     "output_type": "stream",
     "text": [
      "[-3  6 -3]\n"
     ]
    }
   ],
   "source": [
    "#calculating the cross product of a and b\n",
    "axb = np.cross(a,b)\n",
    "#printing the cross product of a and b\n",
    "print(axb)"
   ]
  },
  {
   "cell_type": "markdown",
   "id": "7f5b7d03",
   "metadata": {
    "editable": true,
    "slideshow": {
     "slide_type": "skip"
    },
    "tags": []
   },
   "source": [
    "## 2a. mean and median function (core Python) [4]\n",
    "\n",
    "Write a function `average(vals, method)` that calculates the mean or median of a list of numbers, depending on the value of a second argument `method` that takes the value \"mean\" or \"median\".  The default should be \"mean\".  Test it with some lists for which you can predict the answer, and show your testing in your notebook.\n",
    "\n",
    "_NB use core Python only.  Do NOT use numpy!_"
   ]
  },
  {
   "cell_type": "code",
   "execution_count": 55,
   "id": "6bfe95a5-fc69-4a63-b6d8-57565d488ee0",
   "metadata": {
    "tags": []
   },
   "outputs": [],
   "source": [
    "#deffining the function\n",
    "def average(vals, method):\n",
    "    #measuring how many values there are in the list\n",
    "    x = int(len(vals))\n",
    "    #chosing whether to calculate the median or mean\n",
    "    if method == \"median\":\n",
    "        #for the median...\n",
    "        #putting the list in numerical order\n",
    "        ordered = sorted(vals)\n",
    "        #calculating the media\n",
    "        median = ordered[int(x/2)]\n",
    "        #printing the median\n",
    "        print(\"The median is\", median)\n",
    "    else:\n",
    "        #for the mean...\n",
    "        #deffining some necessary variables\n",
    "        n = 0\n",
    "        total = 0\n",
    "        #creating a loop to sum all the values together\n",
    "        while n<x:\n",
    "            #summing the values together\n",
    "            total = total + vals[n]\n",
    "            n = n + 1\n",
    "        #calculating the mean\n",
    "        mean = total/x\n",
    "        #printing the mean\n",
    "        print(\"The mean is\", mean)"
   ]
  },
  {
   "cell_type": "code",
   "execution_count": 56,
   "id": "e9ecdccb-8eca-49ec-be13-ba8fc004afe5",
   "metadata": {
    "tags": []
   },
   "outputs": [
    {
     "name": "stdout",
     "output_type": "stream",
     "text": [
      "The median is 3\n"
     ]
    }
   ],
   "source": [
    "average([4,2,5,1,3],\"median\")"
   ]
  },
  {
   "cell_type": "code",
   "execution_count": 57,
   "id": "7a6c2ff4-e659-4e54-b4f6-dc225b9ad8b5",
   "metadata": {
    "tags": []
   },
   "outputs": [
    {
     "name": "stdout",
     "output_type": "stream",
     "text": [
      "The mean is 3.0\n"
     ]
    }
   ],
   "source": [
    "average([4,2,5,1,3], \"mean\")"
   ]
  },
  {
   "cell_type": "markdown",
   "id": "ae629841-c3f2-4b08-8470-eafd2f3066ad",
   "metadata": {},
   "source": [
    "## 2b. mean and median (numpy) [2]\n",
    "\n",
    "Now check your answers to 2a using numpy functions and methods."
   ]
  },
  {
   "cell_type": "code",
   "execution_count": 49,
   "id": "0660da77-a3ba-4e61-b71c-c40f594a1bdd",
   "metadata": {
    "tags": []
   },
   "outputs": [
    {
     "data": {
      "text/plain": [
       "3.0"
      ]
     },
     "execution_count": 49,
     "metadata": {},
     "output_type": "execute_result"
    }
   ],
   "source": [
    "np.mean([4,2,5,1,3])"
   ]
  },
  {
   "cell_type": "code",
   "execution_count": 51,
   "id": "237f60e0-83a5-4b1c-9371-46918016f667",
   "metadata": {
    "tags": []
   },
   "outputs": [
    {
     "data": {
      "text/plain": [
       "3.0"
      ]
     },
     "execution_count": 51,
     "metadata": {},
     "output_type": "execute_result"
    }
   ],
   "source": [
    "np.median([4,2,5,1,3])"
   ]
  },
  {
   "cell_type": "markdown",
   "id": "f1c9bf7d-fa9e-4842-b121-ef24c64955e5",
   "metadata": {
    "editable": true,
    "slideshow": {
     "slide_type": "skip"
    },
    "tags": []
   },
   "source": [
    "## 3. Numberplate checker [4]\n",
    "\n",
    "Since 2002, standard UK car numberplates have followed the format `AA99 AAA` (2 letters, 2 digits, 3 letters).  All letters are upper-case and a space after the digits is optional.\n",
    "* the first two letters give the region where the car was first registered\n",
    "* the two numbers identify when it was issued - the year(s), and the half of the year (Mar-Aug or Sept to Feb of the following year), as shown in the table below.\n",
    "   * for Mar-Aug, the digits are the last 2 digits of the year e.g. 2023 -> `23`\n",
    "   * for Sept-Feb, the digits are the last 2 digits of the starting year plus 50 e.g. 2023/24 -> `73`\n",
    "* the three letters at the end are random.\n",
    "\n",
    "\n",
    "| Year(s) | Mar-Aug | Sept-Feb |\n",
    "| :- | :-: | :-: |\n",
    "| 2002/03 | 02 | 52 |\n",
    "| 2003/04 | 03 | 53 |\n",
    "| ...    | ... | ... |\n",
    "| 2019/20 | 19 | 69 |\n",
    "| 2020/21 | 20 | 70 |\n",
    "| 2021/22 | 21 | 71 |\n",
    "| 2022/23 | 22 | 72 |\n",
    "| 2023/24 | 23 | 73 |\n",
    "\n",
    "\n",
    "See [UK government](https://www.gov.uk/displaying-number-plates) and [AA page on numberplate format](https://www.theaa.com/car-buying/number-plates) for more information.\n",
    "\n",
    "Write a function that checks whether a numberplate is in current standard UK format and if so, returns the year(s) and month range when it was issued.  If the numberplate is not valid, return None.\n",
    "\n",
    "Your function does _not_ need to deal with non-standard (e.g. custom) or pre-2002 numberplates. \n",
    "\n",
    "Test it on the following lists of numberplates and on some of your own.  Show your testing in your notebook.  In each case, print out the numberplate and when it was issued, e.g. \n",
    "'AB21 CDE was issued in Mar-Aug 2021' or 'AB72 CDE was issued in Sept-Feb 2022/23'."
   ]
  },
  {
   "cell_type": "code",
   "execution_count": 105,
   "id": "5d4d378f-224a-4caf-88d2-a06e40d9454f",
   "metadata": {
    "editable": true,
    "slideshow": {
     "slide_type": "skip"
    },
    "tags": []
   },
   "outputs": [],
   "source": [
    "valid_numberplates = ['AB16 XYT', 'BA21TYX', 'WY53 RRP', 'CC70 CYT']\n",
    "invalid_numberplates = ['LK20 11H', 'ABC3 TVX', 'cc70 cyT']\n",
    "testplates = [\"MK67 HDF\", \"df37XHG\", \"TRGH123\"]"
   ]
  },
  {
   "cell_type": "code",
   "execution_count": 103,
   "id": "41826d77-790d-45e4-898c-c0c1e6b060d2",
   "metadata": {
    "tags": []
   },
   "outputs": [],
   "source": [
    "#deffining the function\n",
    "def platevalid(plates):\n",
    "    #creating a varible that will be used to select a specific plate from the list\n",
    "    platenum = 0\n",
    "\n",
    "    #creating a loop to determine if each plate is valid or not\n",
    "    while platenum < len(plates):\n",
    "        #assuming each plate is valid until proven otherwise\n",
    "        valid = True\n",
    "        #creating a variable the will be used to select specific individual characters from each plate\n",
    "        n = 0\n",
    "        #creating a variable that is the plate we are currently looking at\n",
    "        current = plates[platenum]\n",
    "        \n",
    "        \n",
    "        #checking to see if either of the characters that should be numbers are letter\n",
    "        if current[2].isnumeric() and current[3].isnumeric():\n",
    "            #creating a variable containg the two number characters\n",
    "            nums = int(current[2:4])\n",
    "        else:\n",
    "            valid = False\n",
    "           \n",
    "        \n",
    "        #checking to see if the supposed date the plate was issued is valid\n",
    "        if (nums>23 and nums<52) or (nums<2 or nums>73):\n",
    "            valid = False\n",
    "        \n",
    "        \n",
    "        #checking to see determine the length of the plate and whether it is valid\n",
    "        if len(current) == 7:\n",
    "            #creating a varrible thatuseful for later\n",
    "            x = 7\n",
    "        elif len(current) == 8:\n",
    "            #creating a variable that is useful for later\n",
    "            x = 8\n",
    "        #if the length isnt 7 or 8 characters then the plate cannot be valid\n",
    "        else:\n",
    "            valid = False\n",
    "        \n",
    "        \n",
    "        #creating a loop to determine if the letters in the string are capitalised and therefore valid or not\n",
    "        while n<x:\n",
    "            #creating and if statement to ignore the characters that are numbers and the potential space\n",
    "            if n == 2 or n == 3 or (x == 8 and current[n] == \" \"):\n",
    "                pass\n",
    "            #checking to see if any of the characters that should be letters are numbers\n",
    "            elif current[n].isnumeric():\n",
    "                valid = False\n",
    "            #checking to see if any of the letters and not capitalised\n",
    "            elif not(current[n].isupper()):\n",
    "                valid = False\n",
    "            #increasing n to check the next character in the string\n",
    "            n = n + 1\n",
    "        \n",
    "        #determining if the plate was issued in the first or second half of the year\n",
    "        if nums>50:\n",
    "            #calculating the issued year\n",
    "            issuedyear = (nums - 50) + 2000\n",
    "            #stating which months of the year the plate was issued in\n",
    "            issuedhalf = \"Sep-Feb\"\n",
    "        else:\n",
    "            #calculating the issued year\n",
    "            issuedyear = nums + 2000\n",
    "            #stating which month of the year the plate was issued in\n",
    "            issuedhalf = \"Mar-Aug\"\n",
    "        \n",
    "        #returning the desired output for valid plates and for invalid plates\n",
    "        if valid ==True:\n",
    "            #for valid plates:\n",
    "            print(current, \"was issued in\", issuedhalf, issuedyear)\n",
    "        elif valid == False:\n",
    "            #for invalid plates:\n",
    "            print(\"None\")\n",
    "            \n",
    "        #increasing the variable platenum to move onto the next plate in the list\n",
    "        platenum = platenum + 1"
   ]
  },
  {
   "cell_type": "code",
   "execution_count": 107,
   "id": "8ecc6854-76df-4a92-a666-15a29c5d1b65",
   "metadata": {
    "tags": []
   },
   "outputs": [
    {
     "name": "stdout",
     "output_type": "stream",
     "text": [
      "MK67 HDF was issued in Sep-Feb 2017\n",
      "None\n",
      "None\n"
     ]
    }
   ],
   "source": [
    "platevalid(testplates)"
   ]
  }
 ],
 "metadata": {
  "kernelspec": {
   "display_name": "Python 3 (ipykernel)",
   "language": "python",
   "name": "python3"
  },
  "language_info": {
   "codemirror_mode": {
    "name": "ipython",
    "version": 3
   },
   "file_extension": ".py",
   "mimetype": "text/x-python",
   "name": "python",
   "nbconvert_exporter": "python",
   "pygments_lexer": "ipython3",
   "version": "3.11.5"
  }
 },
 "nbformat": 4,
 "nbformat_minor": 5
}
