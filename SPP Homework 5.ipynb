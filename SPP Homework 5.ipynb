{
 "cells": [
  {
   "cell_type": "code",
   "execution_count": 1,
   "id": "ee74f488",
   "metadata": {
    "slideshow": {
     "slide_type": "fragment"
    },
    "tags": []
   },
   "outputs": [],
   "source": [
    "#setting up imports\n",
    "import numpy as np\n",
    "import matplotlib.pyplot as plt\n",
    "import scipy.constants as sc\n",
    "%matplotlib inline"
   ]
  },
  {
   "cell_type": "code",
   "execution_count": 2,
   "id": "6b8d335f",
   "metadata": {
    "tags": []
   },
   "outputs": [],
   "source": [
    "#finding the file the data is stored in\n",
    "datafile = \"C:\\\\Users\\\\gfpet\\\\OneDrive\\\\scientific programing in python homework\\\\homework\\\\labdata2.csv\""
   ]
  },
  {
   "cell_type": "code",
   "execution_count": 3,
   "id": "d1948256",
   "metadata": {
    "slideshow": {
     "slide_type": "fragment"
    },
    "tags": []
   },
   "outputs": [],
   "source": [
    "#loading in the data from the file\n",
    "data = np.genfromtxt(datafile, delimiter=\",\", skip_header=4, unpack=True)"
   ]
  },
  {
   "cell_type": "code",
   "execution_count": 4,
   "id": "ef859a73",
   "metadata": {
    "tags": []
   },
   "outputs": [],
   "source": [
    "#extracting the lengths and measured data from the data set\n",
    "length = [data[0,0], data[1,0], data[2,0], data[3,0], data[4,0], data[5,0]]\n",
    "period2 = data[0,1:]\n",
    "period3 = data[1,1:]\n",
    "period4 = data[2,1:]\n",
    "period5 = data[3,1:]\n",
    "period75 = data[4,1:]\n",
    "period1 = data[5,1:]\n",
    "periods = [period2, period3, period4, period5, period75, period1]"
   ]
  },
  {
   "cell_type": "code",
   "execution_count": 5,
   "id": "15866049-7288-4d06-a840-7bbd2949aba8",
   "metadata": {
    "tags": []
   },
   "outputs": [],
   "source": [
    "#setting up some useful variables\n",
    "avg2 = 0\n",
    "avg3 = 0\n",
    "avg4 = 0\n",
    "avg5 = 0\n",
    "avg75 = 0\n",
    "avg1 = 0\n",
    "n = 1\n",
    "total = 0\n",
    "averages = [avg2,avg3,avg4,avg5,avg75,avg1]\n",
    "avgsqrd = [0,0,0,0,0,0]"
   ]
  },
  {
   "cell_type": "code",
   "execution_count": 6,
   "id": "a1296bba-b88f-4b3b-bed8-317f4462f34c",
   "metadata": {
    "tags": []
   },
   "outputs": [],
   "source": [
    "#calculating the averages and the squares of the averages for each of the pendulum lengths\n",
    "n = 0\n",
    "#using a loop to work through the data for each length value\n",
    "while n < 6:\n",
    "    current = periods[n]\n",
    "    m = 0\n",
    "    o = 0\n",
    "    #using a loop to sum all real values together and ignore any blank values\n",
    "    while m < 9:\n",
    "        if 0<current[m]<5:\n",
    "            total = total + current[m]\n",
    "            #counting how many values have been used to calculate the average value\n",
    "            o = o + 1\n",
    "        else:\n",
    "            pass\n",
    "        m = m + 1\n",
    "    avg = total / o\n",
    "    #comiling all the average values into one list\n",
    "    averages[n] = avg\n",
    "    n = n + 1\n",
    "    total = 0\n",
    "n = 0\n",
    "#using a loop to square all the individual average values and compile them all into a second list\n",
    "while n < 6:\n",
    "    avgsqrd[n] = averages[n]**2\n",
    "    n = n + 1"
   ]
  },
  {
   "cell_type": "code",
   "execution_count": 7,
   "id": "2cc29c9c-43cc-4ec2-87e3-d1b2d8a64411",
   "metadata": {
    "tags": []
   },
   "outputs": [
    {
     "name": "stdout",
     "output_type": "stream",
     "text": [
      "[0.8855674285714286, 1.2470995, 1.78015775, 0.5647847777777778, 3.0539460000000007, 4.081884857142858]\n"
     ]
    }
   ],
   "source": [
    "#calculating the errors for each of the sets of data for each pendulum length\n",
    "errs = [0,0,0,0,0,0]\n",
    "n = 0\n",
    "#using a loop to calculate the errors one by one\n",
    "while n < 6:\n",
    "    current = periods[n]\n",
    "    errs[n] = 2 * averages[n] * ((current.max() - current.min()) / 2)\n",
    "    n = n + 1\n",
    "print(errs)"
   ]
  },
  {
   "cell_type": "code",
   "execution_count": 8,
   "id": "4fab899e",
   "metadata": {
    "slideshow": {
     "slide_type": "fragment"
    },
    "tags": []
   },
   "outputs": [
    {
     "data": {
      "text/plain": [
       "[(0.0, 1.04), (0.0, 8.443287595089286)]"
      ]
     },
     "execution_count": 8,
     "metadata": {},
     "output_type": "execute_result"
    },
    {
     "data": {
      "image/png": "[encoded data removed]",
      "text/plain": [
       "<Figure size 640x480 with 1 Axes>"
      ]
     },
     "metadata": {},
     "output_type": "display_data"
    }
   ],
   "source": [
    "#plotting the data on a graph with their respective error bars\n",
    "fig = plt.figure()\n",
    "ax = fig.add_subplot()\n",
    "ax.errorbar(length, avgsqrd, errs, linestyle='', color='k', marker='x',markersize=10, capsize=3, label='Pendulum data')\n",
    "ax.set(xlabel = \"Pendulum Length / m\", ylabel = \"Period square / s^2\")\n",
    "ax.set(xlim = 0.0, ylim = 0.0)"
   ]
  },
  {
   "cell_type": "code",
   "execution_count": 9,
   "id": "66e6607f-d1ca-4a44-a5f6-8123c3981771",
   "metadata": {
    "tags": []
   },
   "outputs": [],
   "source": [
    "#creating a function to return the y values of a straight line given y=mx+c\n",
    "def straightline(x,m,c):\n",
    "    return m*x+c"
   ]
  },
  {
   "cell_type": "code",
   "execution_count": 10,
   "id": "54e1985a-2b55-4b6c-b0d1-637db546bf31",
   "metadata": {
    "tags": []
   },
   "outputs": [
    {
     "name": "stdout",
     "output_type": "stream",
     "text": [
      "4.24062799997961 -0.04848838530082733\n"
     ]
    }
   ],
   "source": [
    "#calculating the gradient and y-intercept for the straight line fit\n",
    "from scipy.optimize import curve_fit\n",
    "initial_guess = (1.0,1.0)\n",
    "bestfit, cov = curve_fit(straightline, length, avgsqrd, p0 = initial_guess , sigma = errs, absolute_sigma = True)\n",
    "grad , yint = bestfit\n",
    "print(grad, yint)"
   ]
  },
  {
   "cell_type": "code",
   "execution_count": 11,
   "id": "e199f6b0-d449-4afa-b196-ed7f2ab56105",
   "metadata": {
    "tags": []
   },
   "outputs": [
    {
     "name": "stdout",
     "output_type": "stream",
     "text": [
      "The error in the gradient is +- 2.85484154918141 and the error in the y-intercept is +- 1.2512493494067567\n"
     ]
    }
   ],
   "source": [
    "#calculating and printing the error in the gradient and y-intercept for the straight line fit\n",
    "graderr = cov[0,0]**0.5\n",
    "yinterr = cov[1,1]**0.5\n",
    "print(\"The error in the gradient is +-\", graderr, \"and the error in the y-intercept is +-\", yinterr)"
   ]
  },
  {
   "cell_type": "code",
   "execution_count": 12,
   "id": "73b6a04f-9b59-4913-afc6-d6b28dc8c6a9",
   "metadata": {
    "tags": []
   },
   "outputs": [],
   "source": [
    "#creating a function to calculate the theoretical period of a pendulum given its length and the gravitational field strength\n",
    "def pendulum_period(L, g = sc.g):\n",
    "    return (4*(sc.pi**2)*L)/g"
   ]
  },
  {
   "cell_type": "code",
   "execution_count": 13,
   "id": "cbf6643f-2b82-4175-a3d6-069427c0f0f1",
   "metadata": {
    "tags": []
   },
   "outputs": [
    {
     "data": {
      "image/png": "[encoded data removed]",
      "text/plain": [
       "<Figure size 640x480 with 1 Axes>"
      ]
     },
     "execution_count": 13,
     "metadata": {},
     "output_type": "execute_result"
    }
   ],
   "source": [
    "#plotting both the straight line fit and the curve fit on the figure\n",
    "xvals = np.linspace(0,2)\n",
    "ax.plot(xvals , straightline(xvals,grad,yint), linestyle = \"--\", label = \"Straight line fit\", color = \"orange\")\n",
    "ax.plot(xvals, pendulum_period(L = xvals), linestyle = \"--\", label = \"Curve fit\", color = \"blue\")\n",
    "ax.legend()\n",
    "fig"
   ]
  }
 ],
 "metadata": {
  "kernelspec": {
   "display_name": "Python 3 (ipykernel)",
   "language": "python",
   "name": "python3"
  },
  "language_info": {
   "codemirror_mode": {
    "name": "ipython",
    "version": 3
   },
   "file_extension": ".py",
   "mimetype": "text/x-python",
   "name": "python",
   "nbconvert_exporter": "python",
   "pygments_lexer": "ipython3",
   "version": "3.11.5"
  }
 },
 "nbformat": 4,
 "nbformat_minor": 5
}
