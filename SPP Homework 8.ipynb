{
 "cells": [
  {
   "cell_type": "markdown",
   "id": "883e4919-22bf-41d0-9e1c-47d7136847df",
   "metadata": {},
   "source": [
    "# Homework 8."
   ]
  },
  {
   "cell_type": "code",
   "execution_count": 1,
   "id": "ee74f488",
   "metadata": {
    "slideshow": {
     "slide_type": "fragment"
    },
    "tags": []
   },
   "outputs": [],
   "source": [
    "#setting up imports\n",
    "import numpy as np\n",
    "import matplotlib.pyplot as plt\n",
    "import scipy.constants as sc\n",
    "from scipy.optimize import minimize\n",
    "from scipy import special\n",
    "from scipy import integrate\n",
    "from matplotlib import cm\n",
    "import matplotlib.colors\n",
    "from matplotlib.colors import ListedColormap, LinearSegmentedColormap\n",
    "%matplotlib inline"
   ]
  },
  {
   "cell_type": "code",
   "execution_count": 2,
   "id": "8cd2c2c9-7b6a-484f-959e-22ff16e8bafa",
   "metadata": {
    "tags": []
   },
   "outputs": [],
   "source": [
    "#making sure all 'return' functions produce an output\n",
    "from IPython.core.interactiveshell import InteractiveShell\n",
    "InteractiveShell.ast_node_interactivity = \"all\""
   ]
  },
  {
   "cell_type": "markdown",
   "id": "95c28f8a-b6a5-4ae4-a79f-5eca39c74a50",
   "metadata": {},
   "source": [
    "# Excercise 1."
   ]
  },
  {
   "cell_type": "code",
   "execution_count": 7,
   "id": "924da3a8-1b8f-4c92-984e-59490e0eeee7",
   "metadata": {
    "tags": []
   },
   "outputs": [],
   "source": [
    "#setting up the class for simple harmonic motion\n",
    "class SHM():\n",
    "    \n",
    "    #setting bassic deffinitions\n",
    "    def __init__(self,mass,spring_constant):\n",
    "        self.m , self.k = mass , spring_constant\n",
    "    def __repr__(self):\n",
    "        return f\"mass = {self.m} and spring constant = {self.k}\"\n",
    "    \n",
    "    #deffining the function to determine angular frequency\n",
    "    def angf(self):\n",
    "        return (self.k/self.m)**0.5\n",
    "    \n",
    "    #deffining the function to determine frequency\n",
    "    def f(self):\n",
    "        return (((self.k/self.m)**0.5)/2*np.pi)\n",
    "    \n",
    "    #deffining the function to determine period\n",
    "    def T(self):\n",
    "        return (1/(((self.k/self.m)**0.5)/2*np.pi))"
   ]
  },
  {
   "cell_type": "code",
   "execution_count": 8,
   "id": "65d6ce54-cb45-492d-85a8-c5efd5042e50",
   "metadata": {
    "tags": []
   },
   "outputs": [
    {
     "data": {
      "text/plain": [
       "2.0"
      ]
     },
     "execution_count": 8,
     "metadata": {},
     "output_type": "execute_result"
    },
    {
     "data": {
      "text/plain": [
       "3.141592653589793"
      ]
     },
     "execution_count": 8,
     "metadata": {},
     "output_type": "execute_result"
    },
    {
     "data": {
      "text/plain": [
       "0.3183098861837907"
      ]
     },
     "execution_count": 8,
     "metadata": {},
     "output_type": "execute_result"
    }
   ],
   "source": [
    "#testing the functions\n",
    "oscilator = SHM(5, 20)\n",
    "oscilator.angf()\n",
    "oscilator.f()\n",
    "oscilator.T()"
   ]
  },
  {
   "cell_type": "markdown",
   "id": "1a9686b0-24d8-4ee4-8ee8-929ff8744f85",
   "metadata": {},
   "source": [
    "# Excercise 2."
   ]
  },
  {
   "cell_type": "code",
   "execution_count": 9,
   "id": "fb9f4586-d463-4a66-8ad3-ce3ec000dc02",
   "metadata": {
    "tags": []
   },
   "outputs": [],
   "source": [
    "#setting up the class for damped simple harmonic motion\n",
    "class damped(SHM):\n",
    "    \n",
    "    #setting basic deffinitionss\n",
    "    def __init__(self,mass,spring_constant,damping_constant):\n",
    "        self.m , self.k , self.b = mass , spring_constant , damping_constant\n",
    "    def __repr__(self):\n",
    "        return f\"mass = {self.m}, spring constant = {self.k} and damping constant = {self.b}\"\n",
    "    \n",
    "    #deffining a function to return the type of damping\n",
    "    def kind(self):\n",
    "        #working out which kind of damping is occuring\n",
    "        x = (((self.b)**2)/(4*(self.m)**2))-(self.k/self.m)\n",
    "        if x>0:\n",
    "            print(\"damping is heavy\")\n",
    "        elif x==0:\n",
    "            print(\"damping is critical\")\n",
    "        else:\n",
    "            print(\"damping is light\")\n",
    "    \n",
    "    #deffining a function to return the angular frequency for a lightly damped system\n",
    "    def angf(self):\n",
    "        #making sure the system is lightly damped\n",
    "        x = ((self.b)**2/(2*self.m)**2)-(self.k/self.m)\n",
    "        if x<0:\n",
    "            #returning the angular frequency\n",
    "            return ((self.k/self.m)-(self.b**2/(2*self.m)**2))**0.5\n",
    "        #giving an error message if the damping is not light\n",
    "        else:\n",
    "            print(\"damping is not light so angular frequency cannot be calculated\")\n",
    "    \n",
    "    #deffining a function to return the frequency for a lightly damped system\n",
    "    def f(self):\n",
    "        #making sure the system is lightly damped\n",
    "        x = ((self.b)**2/(2*self.m)**2)-(self.k/self.m)\n",
    "        if x<0:\n",
    "            #returning the frequency\n",
    "            return (((self.k/self.m)-(self.b**2/(2*self.m)**2))**0.5)/(2*np.pi)\n",
    "        #giving an error message if the damping is not light\n",
    "        else:\n",
    "            print(\"damping is not light so frequency cannot be calculated\")\n",
    "    \n",
    "    #deffining a function to return the period for a lightly damped system\n",
    "    def T(self):\n",
    "        #making sure the system is lightly damped\n",
    "        x = ((self.b)**2/(2*self.m)**2)-(self.k/self.m)\n",
    "        if x<0:\n",
    "            #returning the period\n",
    "            return (((self.k/self.m)-(self.b**2/(2*self.m)**2))**0.5)/(2*np.pi)**(-1)\n",
    "        #giving an error message if the damping is not light\n",
    "        else:\n",
    "            print(\"damping is not light so period cannot be calculated\")\n",
    "    \n",
    "    #deffining a function to return the amplitude of a lightly damped system given the initial amplitude and the time ellapsed\n",
    "    def A(self,A0,t):\n",
    "        #making sure the system is lightly damped\n",
    "        x = ((self.b)**2/(2*self.m)**2)-(self.k/self.m)\n",
    "        if x<0:\n",
    "            #returning the amplitude\n",
    "            return A0*np.exp(-self.k*t)\n",
    "        #giving an error message if the damping is not light\n",
    "        else:\n",
    "            print(\"damping is not light so amplitude cannot be calculated\")"
   ]
  },
  {
   "cell_type": "code",
   "execution_count": 6,
   "id": "1b1767c1-9af2-4baf-8ea5-372ac7c39e38",
   "metadata": {
    "tags": []
   },
   "outputs": [
    {
     "name": "stdout",
     "output_type": "stream",
     "text": [
      "damping is light\n"
     ]
    },
    {
     "data": {
      "text/plain": [
       "0.48989794855663565"
      ]
     },
     "execution_count": 6,
     "metadata": {},
     "output_type": "execute_result"
    },
    {
     "data": {
      "text/plain": [
       "0.07796968012336762"
      ]
     },
     "execution_count": 6,
     "metadata": {},
     "output_type": "execute_result"
    },
    {
     "data": {
      "text/plain": [
       "3.078119592388474"
      ]
     },
     "execution_count": 6,
     "metadata": {},
     "output_type": "execute_result"
    },
    {
     "data": {
      "text/plain": [
       "0.00045399929762484856"
      ]
     },
     "execution_count": 6,
     "metadata": {},
     "output_type": "execute_result"
    }
   ],
   "source": [
    "#testing the damped functions\n",
    "damp1 = damped(5,2,4)\n",
    "damp1.kind()\n",
    "damp1.angf()\n",
    "damp1.f()\n",
    "damp1.T()\n",
    "damp1.A(10,5)"
   ]
  }
 ],
 "metadata": {
  "kernelspec": {
   "display_name": "Python 3 (ipykernel)",
   "language": "python",
   "name": "python3"
  },
  "language_info": {
   "codemirror_mode": {
    "name": "ipython",
    "version": 3
   },
   "file_extension": ".py",
   "mimetype": "text/x-python",
   "name": "python",
   "nbconvert_exporter": "python",
   "pygments_lexer": "ipython3",
   "version": "3.11.4"
  }
 },
 "nbformat": 4,
 "nbformat_minor": 5
}
